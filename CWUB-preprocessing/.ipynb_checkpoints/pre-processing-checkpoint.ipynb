{
 "cells": [
  {
   "cell_type": "code",
   "execution_count": 5,
   "metadata": {},
   "outputs": [],
   "source": [
    "'''\n",
    "! pip install pandas\n",
    "! conda install -c conda-forge pyts\n",
    "\n",
    "'''\n",
    "\n",
    "import numpy as np\n",
    "import pandas as pd\n",
    "import matplotlib.pyplot as plt\n",
    "import scipy.io as spio\n",
    "\n",
    "\n"
   ]
  },
  {
   "cell_type": "code",
   "execution_count": 6,
   "metadata": {},
   "outputs": [],
   "source": [
    "Data = \"DataSetA.mat\"\n",
    "mat = spio.loadmat(Data, squeeze_me=True) # Load the dataset\n",
    "data = {}\n",
    "Raw= []\n",
    "\n",
    "##-----------import each data set into the data  \n",
    "for i in range(1,len(mat)-2): \n",
    "    data[i-1]=mat.get('C{}'.format(i))\n",
    "    # print(\"Class : \",(i-1)%10, \"Imported :)\")"
   ]
  },
  {
   "cell_type": "code",
   "execution_count": 16,
   "metadata": {},
   "outputs": [
    {
     "name": "stdout",
     "output_type": "stream",
     "text": [
      "dict_keys(['__header__', '__version__', '__globals__', 'C1', 'C10', 'C2', 'C3', 'C4', 'C5', 'C6', 'C7', 'C8', 'C9'])\n"
     ]
    }
   ],
   "source": [
    "print(mat.keys())\n",
    "C1 = mat.get('C1')\n",
    "C1.size\n",
    "X = C1[0:10000]"
   ]
  },
  {
   "cell_type": "code",
   "execution_count": 42,
   "metadata": {},
   "outputs": [
    {
     "ename": "SyntaxError",
     "evalue": "invalid syntax (<ipython-input-42-4cc220bffc37>, line 4)",
     "output_type": "error",
     "traceback": [
      "\u001b[0;36m  File \u001b[0;32m\"<ipython-input-42-4cc220bffc37>\"\u001b[0;36m, line \u001b[0;32m4\u001b[0m\n\u001b[0;31m    gasf = GramianAngularField(image_size=24 method='summation')\u001b[0m\n\u001b[0m                                                  ^\u001b[0m\n\u001b[0;31mSyntaxError\u001b[0m\u001b[0;31m:\u001b[0m invalid syntax\n"
     ]
    }
   ],
   "source": [
    "from pyts.image import GramianAngularField\n",
    "\n",
    "# Transform the time series into Gramian Angular Fields\n",
    "gasf = GramianAngularField(image_size=24,method='summation')\n",
    "gasf.fit(X)\n",
    "X_gasf = gasf.transform(X)\n",
    "\n",
    "gadf = GramianAngularField(image_size=24, thod='difference')\n",
    "gadf.fit(X)\n",
    "X_gadf = gadf.transform(X)\n",
    "\n",
    "\n",
    "# Show the images for the first time series\n",
    "fig = plt.figure(figsize=(8, 4))\n",
    "grid = ImageGrid(fig, 111,\n",
    "                 nrows_ncols=(1, 2),\n",
    "                 axes_pad=0.15,\n",
    "                 share_all=True,\n",
    "                 cbar_location=\"right\",\n",
    "                 cbar_mode=\"single\",\n",
    "                 cbar_size=\"7%\",\n",
    "                 cbar_pad=0.3,\n",
    "                 )\n",
    "images = [X_gasf[0], X_gadf[0]]\n",
    "titles = ['Summation', 'Difference']\n",
    "for image, title, ax in zip(images, titles, grid):\n",
    "    im = ax.imshow(image, cmap='rainbow', origin='lower')\n",
    "    ax.set_title(title, fontdict={'fontsize': 12})\n",
    "ax.cax.colorbar(im)\n",
    "ax.cax.toggle_label(True)\n",
    "plt.suptitle('Gramian Angular Fields', y=0.98, fontsize=16)\n",
    "plt.show()"
   ]
  },
  {
   "cell_type": "code",
   "execution_count": 19,
   "metadata": {},
   "outputs": [],
   "source": [
    "\n",
    "import matplotlib.pyplot as plt\n",
    "from mpl_toolkits.axes_grid1 import ImageGrid\n",
    "from pyts.image import GramianAngularField\n",
    "from pyts.datasets import load_gunpoint\n",
    "\n",
    "# Parameters\n",
    "X, _, _, _ = load_gunpoint(return_X_y=True)"
   ]
  },
  {
   "cell_type": "code",
   "execution_count": 32,
   "metadata": {},
   "outputs": [
    {
     "data": {
      "text/plain": [
       "150"
      ]
     },
     "execution_count": 32,
     "metadata": {},
     "output_type": "execute_result"
    }
   ],
   "source": [
    "len(X[0,:])"
   ]
  },
  {
   "cell_type": "code",
   "execution_count": null,
   "metadata": {},
   "outputs": [],
   "source": []
  }
 ],
 "metadata": {
  "kernelspec": {
   "display_name": "Python 3",
   "language": "python",
   "name": "python3"
  },
  "language_info": {
   "codemirror_mode": {
    "name": "ipython",
    "version": 3
   },
   "file_extension": ".py",
   "mimetype": "text/x-python",
   "name": "python",
   "nbconvert_exporter": "python",
   "pygments_lexer": "ipython3",
   "version": "3.7.10"
  }
 },
 "nbformat": 4,
 "nbformat_minor": 4
}
