{
 "cells": [
  {
   "cell_type": "code",
   "execution_count": 3,
   "metadata": {},
   "outputs": [],
   "source": [
    "'''\n",
    "! pip install pandas\n",
    "! conda install -c conda-forge pyts\n",
    "\n",
    "'''\n",
    "import os\n",
    "import numpy as np\n",
    "import pandas as pd\n",
    "import matplotlib.pyplot as plt\n",
    "import scipy.io as spio\n"
   ]
  },
  {
   "cell_type": "markdown",
   "metadata": {},
   "source": [
    "## Importing vibration data\n",
    "In this stage we are going to load all the dataset for the case western reverse university dataset for bearings. Then we try to create a class that generate the image representetive of the timeseries by sliding a nonoverlaping window."
   ]
  },
  {
   "cell_type": "code",
   "execution_count": 15,
   "metadata": {},
   "outputs": [
    {
     "name": "stdout",
     "output_type": "stream",
     "text": [
      "['./DataSetC.mat', './DataSetA.mat', './DataSetB.mat']\n",
      "minimum number of samples to be considered is ===> 381890\n"
     ]
    }
   ],
   "source": [
    "## In the first step we search for all the \".mat\" files and try to extract them and \n",
    "## Reconstruct them into a new dataframe\n",
    "## **Note**: This is assumed that all three .mat files exist in the same directory of this python file\n",
    "data_root_path = '.' \n",
    "data_paths = []\n",
    "for file in os.listdir(data_root_path):\n",
    "    if '.mat' in file:\n",
    "        data_paths.append(data_root_path+'/'+file)\n",
    "print(data_paths)\n",
    "num_min_samples = 1e10\n",
    "whole_data = {}\n",
    "for file in data_paths:   \n",
    "    mat = spio.loadmat(file, squeeze_me=True) # Load the dataset\n",
    "    name = file.replace('.mat','').replace('./','')  \n",
    "    data = {}\n",
    "    for i in range(1,len(mat)-2): \n",
    "        data[i]=mat.get('C{}'.format(i))\n",
    "        if num_min_samples >= len(data[i]): num_min_samples = len(data[i]) \n",
    "    whole_data[name] = data\n",
    "print(f'minimum number of samples to be considered is ===> {num_min_samples}')"
   ]
  },
  {
   "cell_type": "markdown",
   "metadata": {},
   "source": [
    "## Image representation of the entire dataset\n",
    "In this section we use two methods GAF and MTF for generating the image representation of the vibration dataset"
   ]
  },
  {
   "cell_type": "code",
   "execution_count": 31,
   "metadata": {},
   "outputs": [
    {
     "data": {
      "text/plain": [
       "(5967, 64, 64)"
      ]
     },
     "execution_count": 31,
     "metadata": {},
     "output_type": "execute_result"
    }
   ],
   "source": [
    "from pyts.image import GramianAngularField\n",
    "\n",
    "gasf = GramianAngularField(image_size=1., method='summation')\n",
    "w_length = 64\n",
    "sliced_data = np.empty((3,10, num_min_samples//w_length, w_length))\n",
    "\n",
    "for d_name in range(len(whole_data.keys())): # this loop goes through each dataset\n",
    "    dataset = whole_data[list(whole_data.keys())[d_name]]\n",
    "    class_counter = 0\n",
    "    for class_category in dataset.keys():# this loop goes through the eaech class of dataset \n",
    "        data = dataset[class_category]\n",
    "        for i in range(num_min_samples//w_length): # this loop goes through each class of a dataset\n",
    "            sliced_data[d_name, class_counter, i,:] = data[i*w_length: (i+1)*w_length]\n",
    "    class_counter +=1\n",
    "    \n",
    "    \n",
    "sliced_data.shape\n"
   ]
  },
  {
   "cell_type": "code",
   "execution_count": 32,
   "metadata": {},
   "outputs": [
    {
     "data": {
      "text/plain": [
       "array([-0.34471733, -0.43235733, -0.44237333, ...,  0.177784  ,\n",
       "        0.44153867,  0.66522933])"
      ]
     },
     "execution_count": 32,
     "metadata": {},
     "output_type": "execute_result"
    }
   ],
   "source": [
    "data"
   ]
  },
  {
   "cell_type": "markdown",
   "metadata": {},
   "source": [
    "## synthesizing unbalanced vibration data\n",
    "In this section, the entire dataset is used to generate some unbalanced dataset reference for Reinfrocement learning and GAN analysis.        \n",
    "        "
   ]
  },
  {
   "cell_type": "code",
   "execution_count": null,
   "metadata": {},
   "outputs": [],
   "source": []
  }
 ],
 "metadata": {
  "kernelspec": {
   "display_name": "Python 3",
   "language": "python",
   "name": "python3"
  },
  "language_info": {
   "codemirror_mode": {
    "name": "ipython",
    "version": 3
   },
   "file_extension": ".py",
   "mimetype": "text/x-python",
   "name": "python",
   "nbconvert_exporter": "python",
   "pygments_lexer": "ipython3",
   "version": "3.7.10"
  }
 },
 "nbformat": 4,
 "nbformat_minor": 4
}
