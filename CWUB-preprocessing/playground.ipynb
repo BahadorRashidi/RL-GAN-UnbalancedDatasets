{
 "cells": [
  {
   "cell_type": "code",
   "execution_count": 1,
   "id": "34e05d87",
   "metadata": {},
   "outputs": [],
   "source": [
    "import matplotlib.pyplot as plt\n",
    "import numpy as np\n",
    "from mpl_toolkits.axes_grid1 import ImageGrid\n",
    "from pyts.image import GramianAngularField\n",
    "from pyts.datasets import load_gunpoint\n",
    "\n",
    "# Parameters\n",
    "X, _, _, _ = load_gunpoint(return_X_y=True)"
   ]
  },
  {
   "cell_type": "code",
   "execution_count": 13,
   "id": "21850516",
   "metadata": {},
   "outputs": [
    {
     "data": {
      "text/plain": [
       "(150,)"
      ]
     },
     "execution_count": 13,
     "metadata": {},
     "output_type": "execute_result"
    }
   ],
   "source": [
    "# X = X[0,:]\n",
    "X.shape"
   ]
  },
  {
   "cell_type": "code",
   "execution_count": 17,
   "id": "9fd27080",
   "metadata": {},
   "outputs": [
    {
     "name": "stderr",
     "output_type": "stream",
     "text": [
      "/home/brash/anaconda3/envs/RL_GAN_CWRU/lib/python3.7/site-packages/ipykernel_launcher.py:23: MatplotlibDeprecationWarning: Since 3.2, mpl_toolkits's own colorbar implementation is deprecated; it will be removed two minor releases later.  Set the 'mpl_toolkits.legacy_colorbar' rcParam to False to use Matplotlib's default colorbar implementation and suppress this deprecation warning.\n"
     ]
    },
    {
     "data": {
      "image/png": "[encoded data removed]",
      "text/plain": [
       "<Figure size 576x288 with 4 Axes>"
      ]
     },
     "metadata": {
      "needs_background": "light"
     },
     "output_type": "display_data"
    }
   ],
   "source": [
    "# Transform the time series into Gramian Angular Fields\n",
    "gasf = GramianAngularField(image_size=4, method='summation')\n",
    "X_gasf = gasf.fit_transform(X.reshape(1,-1))\n",
    "gadf = GramianAngularField(image_size=54, method='difference')\n",
    "X_gadf = gadf.fit_transform(X.reshape(1,-1))\n",
    "\n",
    "# Show the images for the first time series\n",
    "fig = plt.figure(figsize=(8, 4))\n",
    "grid = ImageGrid(fig, 111,\n",
    "                 nrows_ncols=(1, 2),\n",
    "                 axes_pad=0.15,\n",
    "                 share_all=True,\n",
    "                 cbar_location=\"right\",\n",
    "                 cbar_mode=\"single\",\n",
    "                 cbar_size=\"7%\",\n",
    "                 cbar_pad=0.3,\n",
    "                 )\n",
    "images = [X_gasf[0], X_gadf[0]]\n",
    "titles = ['Summation', 'Difference']\n",
    "for image, title, ax in zip(images, titles, grid):\n",
    "    im = ax.imshow(image, cmap='rainbow', origin='lower')\n",
    "    ax.set_title(title, fontdict={'fontsize': 12})\n",
    "ax.cax.colorbar(im)\n",
    "ax.cax.toggle_label(True)\n",
    "plt.suptitle('Gramian Angular Fields', y=0.98, fontsize=16)\n",
    "plt.show()"
   ]
  },
  {
   "cell_type": "code",
   "execution_count": null,
   "id": "67248ace",
   "metadata": {},
   "outputs": [],
   "source": []
  }
 ],
 "metadata": {
  "kernelspec": {
   "display_name": "Python 3",
   "language": "python",
   "name": "python3"
  },
  "language_info": {
   "codemirror_mode": {
    "name": "ipython",
    "version": 3
   },
   "file_extension": ".py",
   "mimetype": "text/x-python",
   "name": "python",
   "nbconvert_exporter": "python",
   "pygments_lexer": "ipython3",
   "version": "3.7.10"
  }
 },
 "nbformat": 4,
 "nbformat_minor": 5
}
